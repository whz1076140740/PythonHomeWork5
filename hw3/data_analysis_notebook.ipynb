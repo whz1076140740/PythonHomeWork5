{
 "cells": [
  {
   "cell_type": "markdown",
   "metadata": {},
   "source": [

    "# Notebook performing data analysis for homework 3 of computing for data science"

   ]
  },
  {
   "cell_type": "code",

   "execution_count": 16,

   "metadata": {},
   "outputs": [],
   "source": [
    "# Importing modules from our library and other required libraries\n",
    "import diabetes_mellitus_library.Cleaning as cl\n",
    "import diabetes_mellitus_library.Training as tr\n",
    "import pandas as pd\n",
    "import numpy as np\n",
    "from sklearn.model_selection import train_test_split\n",
    "from sklearn.linear_model import LogisticRegression\n",
    "from sklearn.metrics import roc_auc_score"
   ]
  },
  {
   "cell_type": "code",
    
   "execution_count": 4,

   "metadata": {},
   "outputs": [],
   "source": [
    "# Add data path here\n",
    "data_path = \"sample_diabetes_mellitus_data.csv\"\n",
    "df = pd.read_csv(data_path)"
   ]
  },
  {
   "cell_type": "code",

    "execution_count": 5,

   "metadata": {},
   "outputs": [],
   "source": [
    "# Remove nan in age, gender, ethnicity\n",
    "df = cl.row_nan_removal(df, ['age', 'gender', 'ethnicity'])"
   ]
  },
  {
   "cell_type": "code",
   "execution_count": 6,

   "metadata": {},
   "outputs": [],
   "source": [
    "# Fill nan with mean for height and weight\n",
    "df = cl.mean_nan_fill(df, ['height', 'weight'])"
   ]
  },
  {
   "cell_type": "code",
   "execution_count": 7,

   "metadata": {},
   "outputs": [],
   "source": [
    "# Generate dummies for ethnicity\n",
    "df = cl.dummy_creation(df, ['ethnicity'])"
   ]
  },
  {
   "cell_type": "code",
   "execution_count": 8,

   "metadata": {},
   "outputs": [],
   "source": [
    "# Create a binary variable for M/F\n",
    "df['gender'] = cl.binary_variable_generator(df['gender'], 'M', 'F')"
   ]
  },
  {
   "cell_type": "code",
   "execution_count": 9,

   "metadata": {},
   "outputs": [],
   "source": [
    "# Split data to test and train for specified columns\n",
    "target_cols = ['age',\n",
    "               'height',\n",
    "               'weight',\n",
    "               'aids',\n",
    "               'cirrhosis',\n",
    "               'hepatic_failure',\n",
    "               'immunosuppression',\n",
    "               'leukemia',\n",
    "               'lymphoma',\n",
    "               'solid_tumor_with_metastasis']\n",
    "\n",
    "X_train, X_test, y_train, y_test = tr.split_data(df, 'diabetes_mellitus', target_cols)"
   ]
  },
  {
   "cell_type": "code",
   "execution_count": 10,

   "metadata": {},
   "outputs": [],
   "source": [
    "# Train the model\n",
    "logistic_model = tr.train_logistic_model(X_train, y_train)"
   ]
  },
  {
   "cell_type": "code",
   "execution_count": 13,

   "metadata": {},
   "outputs": [],
   "source": [
    "# Predict targets\n",
    "df['predictions'] = tr.predict(logistic_model, df[target_cols])"
   ]
  },
  {
   "cell_type": "code",
   "execution_count": 14,

   "metadata": {},
   "outputs": [
    {
     "data": {
      "text/plain": [
       "0.6694866340254213"
      ]
     },
     "execution_count": 14,

     "metadata": {},
     "output_type": "execute_result"
    }
   ],
   "source": [
    "# Get the ROC/AUC score (Area Under the Curve score)\n",
    "tr.get_roc_auc(df['diabetes_mellitus'], df['predictions'])"
   ]
  }
 ],
 "metadata": {
  "kernelspec": {
   "display_name": "base",
   "language": "python",
   "name": "python3"
  },
  "language_info": {
   "codemirror_mode": {
    "name": "ipython",
    "version": 3
   },
   "file_extension": ".py",
   "mimetype": "text/x-python",
   "name": "python",
   "nbconvert_exporter": "python",
   "pygments_lexer": "ipython3",
   "version": "3.12.0"
  },
  "orig_nbformat": 4
 },
 "nbformat": 4,
 "nbformat_minor": 2
}
