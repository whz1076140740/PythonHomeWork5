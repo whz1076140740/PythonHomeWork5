{
 "cells": [
  {
   "cell_type": "code",
   "execution_count": 8,
   "metadata": {},
   "outputs": [],
   "source": [
    "#if you want to test within class, import unittest and inheritance from it\n",
    "import unittest\n",
    "\n",
    "#pytest test with function start from head of test\n",
    "import pytest\n",
    "#ipytest allow us to implement unitest from juptyer notebook\n",
    "import ipytest\n",
    "\n",
    "#configure from pytest in notebook\n",
    "ipytest.autoconfig()\n",
    "\n"
   ]
  },
  {
   "cell_type": "code",
   "execution_count": 9,
   "metadata": {},
   "outputs": [],
   "source": [
    "import pandas as pd\n",
    "from pandas.testing import assert_frame_equal"
   ]
  },
  {
   "cell_type": "code",
   "execution_count": 10,
   "metadata": {},
   "outputs": [
    {
     "data": {
      "text/html": [
       "<div>\n",
       "<style scoped>\n",
       "    .dataframe tbody tr th:only-of-type {\n",
       "        vertical-align: middle;\n",
       "    }\n",
       "\n",
       "    .dataframe tbody tr th {\n",
       "        vertical-align: top;\n",
       "    }\n",
       "\n",
       "    .dataframe thead th {\n",
       "        text-align: right;\n",
       "    }\n",
       "</style>\n",
       "<table border=\"1\" class=\"dataframe\">\n",
       "  <thead>\n",
       "    <tr style=\"text-align: right;\">\n",
       "      <th></th>\n",
       "      <th>Age</th>\n",
       "      <th>Salary</th>\n",
       "    </tr>\n",
       "  </thead>\n",
       "  <tbody>\n",
       "    <tr>\n",
       "      <th>0</th>\n",
       "      <td>0.034483</td>\n",
       "      <td>1000</td>\n",
       "    </tr>\n",
       "    <tr>\n",
       "      <th>1</th>\n",
       "      <td>0.344828</td>\n",
       "      <td>2000</td>\n",
       "    </tr>\n",
       "    <tr>\n",
       "      <th>2</th>\n",
       "      <td>0.379310</td>\n",
       "      <td>2100</td>\n",
       "    </tr>\n",
       "    <tr>\n",
       "      <th>3</th>\n",
       "      <td>0.655172</td>\n",
       "      <td>3500</td>\n",
       "    </tr>\n",
       "    <tr>\n",
       "      <th>4</th>\n",
       "      <td>1.000000</td>\n",
       "      <td>4000</td>\n",
       "    </tr>\n",
       "    <tr>\n",
       "      <th>5</th>\n",
       "      <td>0.000000</td>\n",
       "      <td>1000</td>\n",
       "    </tr>\n",
       "    <tr>\n",
       "      <th>6</th>\n",
       "      <td>0.137931</td>\n",
       "      <td>1500</td>\n",
       "    </tr>\n",
       "  </tbody>\n",
       "</table>\n",
       "</div>"
      ],
      "text/plain": [
       "        Age  Salary\n",
       "0  0.034483    1000\n",
       "1  0.344828    2000\n",
       "2  0.379310    2100\n",
       "3  0.655172    3500\n",
       "4  1.000000    4000\n",
       "5  0.000000    1000\n",
       "6  0.137931    1500"
      ]
     },
     "metadata": {},
     "output_type": "display_data"
    },
    {
     "name": "stdout",
     "output_type": "stream",
     "text": [
      "\u001b[32m.\u001b[0m\u001b[32m                                                                                            [100%]\u001b[0m\n",
      "\u001b[32m\u001b[32m\u001b[1m1 passed\u001b[0m\u001b[32m in 0.04s\u001b[0m\u001b[0m\n"
     ]
    }
   ],
   "source": [
    "%%ipytest\n",
    "import hw4_library.features.transformator as tr\n",
    "class TestNormalizationTransformator(unittest.TestCase):\n",
    "    def test_with_some_value_in_dataFrame_to_nomalize(self):\n",
    "        data = {\"Age\":[23,32,33,41,51,22,26],\"Salary\":[1000,2000,2100,3500,4000,1000,1500]}\n",
    "\n",
    "        inputDataFrame = pd.DataFrame(data)\n",
    "\n",
    "        normalTransformator = tr.NormalizationTransformator()\n",
    "\n",
    "        outputDataFrame = normalTransformator.transform(inputDataFrame,[\"Age\"])\n",
    "        display(inputDataFrame)\n",
    "\n",
    "        expectedDataFrame = pd.DataFrame( {\"Age\":[0.034483,0.344828,0.379310,0.655172,1.000000,0.000000,0.137931],\n",
    "        \"Salary\":[1000,2000,2100,3500,4000,1000,1500]})\n",
    "        \n",
    "        assert_frame_equal(outputDataFrame, expectedDataFrame)\n",
    "\n"
   ]
  },
  {
   "cell_type": "code",
   "execution_count": 11,
   "metadata": {},
   "outputs": [],
   "source": [
    "#defined function here\n",
    "def plus(a,b):\n",
    "    return a-b;\n",
    "\n",
    "def minus(a,b):\n",
    "    return a-b;"
   ]
  },
  {
   "cell_type": "code",
   "execution_count": 12,
   "metadata": {},
   "outputs": [
    {
     "name": "stdout",
     "output_type": "stream",
     "text": [
      "\u001b[31mF\u001b[0m\u001b[31mF\u001b[0m\u001b[31m                                                                                           [100%]\u001b[0m\n",
      "============================================ FAILURES =============================================\n",
      "\u001b[31m\u001b[1m____________________________________________ test_plus ____________________________________________\u001b[0m\n",
      "\n",
      "    \u001b[94mdef\u001b[39;49;00m \u001b[92mtest_plus\u001b[39;49;00m():\u001b[90m\u001b[39;49;00m\n",
      "        inputa = \u001b[94m3\u001b[39;49;00m\u001b[90m\u001b[39;49;00m\n",
      "        inputb = \u001b[94m1\u001b[39;49;00m\u001b[90m\u001b[39;49;00m\n",
      "        output_plus = plus(inputa,inputb)\u001b[90m\u001b[39;49;00m\n",
      "        expected_output_plus = \u001b[94m4\u001b[39;49;00m\u001b[90m\u001b[39;49;00m\n",
      "    \u001b[90m\u001b[39;49;00m\n",
      ">       \u001b[94massert\u001b[39;49;00m output_plus == expected_output_plus\u001b[90m\u001b[39;49;00m\n",
      "\u001b[1m\u001b[31mE       assert 2 == 4\u001b[0m\n",
      "\n",
      "\u001b[1m\u001b[31mC:\\Users\\surface\\AppData\\Local\\Temp\\ipykernel_4720\\477388688.py\u001b[0m:11: AssertionError\n",
      "\u001b[31m\u001b[1m___________________________________________ test_minus ____________________________________________\u001b[0m\n",
      "\n",
      "    \u001b[94mdef\u001b[39;49;00m \u001b[92mtest_minus\u001b[39;49;00m():\u001b[90m\u001b[39;49;00m\n",
      "        inputa = \u001b[94m3\u001b[39;49;00m\u001b[90m\u001b[39;49;00m\n",
      "        inputb = \u001b[94m1\u001b[39;49;00m\u001b[90m\u001b[39;49;00m\n",
      "        output_plus = minus(inputa,inputb)\u001b[90m\u001b[39;49;00m\n",
      "        expected_output_plus = \u001b[94m2\u001b[39;49;00m\u001b[90m\u001b[39;49;00m\n",
      "    \u001b[90m\u001b[39;49;00m\n",
      ">       \u001b[94massert\u001b[39;49;00m uitest.assertEqual(output_plus, excepted_output_plus)\u001b[90m\u001b[39;49;00m\n",
      "\u001b[1m\u001b[31mE       NameError: name 'uitest' is not defined\u001b[0m\n",
      "\n",
      "\u001b[1m\u001b[31mC:\\Users\\surface\\AppData\\Local\\Temp\\ipykernel_4720\\477388688.py\u001b[0m:20: NameError\n",
      "\u001b[36m\u001b[1m===================================== short test summary info =====================================\u001b[0m\n",
      "\u001b[31mFAILED\u001b[0m t_e4cc0659a9664a509314c7a62f9e7a77.py::\u001b[1mtest_plus\u001b[0m - assert 2 == 4\n",
      "\u001b[31mFAILED\u001b[0m t_e4cc0659a9664a509314c7a62f9e7a77.py::\u001b[1mtest_minus\u001b[0m - NameError: name 'uitest' is not defined\n",
      "\u001b[31m\u001b[31m\u001b[1m2 failed\u001b[0m\u001b[31m in 0.08s\u001b[0m\u001b[0m\n"
     ]
    }
   ],
   "source": [
    "%%ipytest\n",
    "#test function\n",
    "# with basic concepts of input and output\n",
    "#use expected output compare with output from tested function\n",
    "#asser if is wrong\n",
    "def test_plus():\n",
    "    inputa = 3\n",
    "    inputb = 1\n",
    "    output_plus = plus(inputa,inputb)\n",
    "    expected_output_plus = 4\n",
    "\n",
    "    assert output_plus == expected_output_plus\n",
    "\n",
    "\n",
    "def test_minus():\n",
    "    inputa = 3\n",
    "    inputb = 1\n",
    "    output_plus = minus(inputa,inputb)\n",
    "    expected_output_plus = 2\n",
    "\n",
    "    assert uitest.assertEqual(output_plus, excepted_output_plus)\n",
    "\n",
    "        "
   ]
  }
 ],
 "metadata": {
  "kernelspec": {
   "display_name": ".venv",
   "language": "python",
   "name": "python3"
  },
  "language_info": {
   "codemirror_mode": {
    "name": "ipython",
    "version": 3
   },
   "file_extension": ".py",
   "mimetype": "text/x-python",
   "name": "python",
   "nbconvert_exporter": "python",
   "pygments_lexer": "ipython3",
   "version": "3.12.0"
  }
 },
 "nbformat": 4,
 "nbformat_minor": 2
}
