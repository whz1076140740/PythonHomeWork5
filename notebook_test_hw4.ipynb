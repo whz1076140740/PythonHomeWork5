{
 "cells": [
  {
   "cell_type": "code",
   "execution_count": 1,
   "metadata": {},
   "outputs": [],
   "source": [
    "#if you want to test within class, import unittest and inheritance from it\n",
    "import unittest\n",
    "\n",
    "#pytest test with function start from head of test\n",
    "import pytest\n",
    "#ipytest allow us to implement unitest from juptyer notebook\n",
    "import ipytest\n",
    "\n",
    "#configure from pytest in notebook\n",
    "ipytest.autoconfig()\n",
    "\n"
   ]
  },
  {
   "cell_type": "code",
   "execution_count": 2,
   "metadata": {},
   "outputs": [],
   "source": [
    "import pandas as pd\n",
    "from pandas.testing import assert_frame_equal"
   ]
  },
  {
   "cell_type": "code",
   "execution_count": 3,
   "metadata": {},
   "outputs": [
    {
     "ename": "ModuleNotFoundError",
     "evalue": "No module named 'hw4_library'",
     "output_type": "error",
     "traceback": [
      "\u001b[0;31m---------------------------------------------------------------------------\u001b[0m",
      "\u001b[0;31mModuleNotFoundError\u001b[0m                       Traceback (most recent call last)",
      "\u001b[1;32m/Users/mathieu26/Desktop/DSDM-BSE/Term 1/Computing for Data Science/PS5/PythonHomeWork5/notebook_test_hw4.ipynb Cell 3\u001b[0m line \u001b[0;36m1\n\u001b[0;32m----> <a href='vscode-notebook-cell:/Users/mathieu26/Desktop/DSDM-BSE/Term%201/Computing%20for%20Data%20Science/PS5/PythonHomeWork5/notebook_test_hw4.ipynb#W2sZmlsZQ%3D%3D?line=0'>1</a>\u001b[0m \u001b[39mimport\u001b[39;00m \u001b[39mhw4_library\u001b[39;00m\u001b[39m.\u001b[39;00m\u001b[39mfeatures\u001b[39;00m\u001b[39m.\u001b[39;00m\u001b[39mtransformator\u001b[39;00m \u001b[39mas\u001b[39;00m \u001b[39mtr\u001b[39;00m\n\u001b[1;32m      <a href='vscode-notebook-cell:/Users/mathieu26/Desktop/DSDM-BSE/Term%201/Computing%20for%20Data%20Science/PS5/PythonHomeWork5/notebook_test_hw4.ipynb#W2sZmlsZQ%3D%3D?line=1'>2</a>\u001b[0m \u001b[39mclass\u001b[39;00m \u001b[39mTestNormalizationTransformator\u001b[39;00m(unittest\u001b[39m.\u001b[39mTestCase):\n\u001b[1;32m      <a href='vscode-notebook-cell:/Users/mathieu26/Desktop/DSDM-BSE/Term%201/Computing%20for%20Data%20Science/PS5/PythonHomeWork5/notebook_test_hw4.ipynb#W2sZmlsZQ%3D%3D?line=2'>3</a>\u001b[0m     \u001b[39mdef\u001b[39;00m \u001b[39mtest_with_some_value_in_dataFrame_to_nomalize\u001b[39m(\u001b[39mself\u001b[39m):\n",
      "\u001b[0;31mModuleNotFoundError\u001b[0m: No module named 'hw4_library'"
     ]
    },
    {
     "name": "stdout",
     "output_type": "stream",
     "text": [
      "\n",
      "\u001b[33m\u001b[33mno tests ran\u001b[0m\u001b[33m in 0.00s\u001b[0m\u001b[0m\n"
     ]
    }
   ],
   "source": [
    "%%ipytest\n",
    "import hw4_library.features.transformator as tr\n",
    "class TestNormalizationTransformator(unittest.TestCase):\n",
    "    def test_with_some_value_in_dataFrame_to_nomalize(self):\n",
    "        data = {\"Age\":[23,32,33,41,51,22,26],\"Salary\":[1000,2000,2100,3500,4000,1000,1500]}\n",
    "\n",
    "        inputDataFrame = pd.DataFrame(data)\n",
    "\n",
    "        normalTransformator = tr.NormalizationTransformator()\n",
    "\n",
    "        outputDataFrame = normalTransformator.transform(inputDataFrame,[\"Age\"])\n",
    "        display(inputDataFrame)\n",
    "\n",
    "        expectedDataFrame = pd.DataFrame( {\"Age\":[0.034483,0.344828,0.379310,0.655172,1.000000,0.000000,0.137931],\n",
    "        \"Salary\":[1000,2000,2100,3500,4000,1000,1500]})\n",
    "        \n",
    "        assert_frame_equal(outputDataFrame, expectedDataFrame)\n",
    "\n"
   ]
  },
  {
   "cell_type": "code",
   "execution_count": 2,
   "metadata": {},
   "outputs": [],
   "source": [
    "#defined function here\n",
    "def plus(a,b):\n",
    "    return a-b;\n",
    "\n",
    "def minus(a,b):\n",
    "    return a-b;"
   ]
  },
  {
   "cell_type": "code",
   "execution_count": 3,
   "metadata": {},
   "outputs": [
    {
     "name": "stderr",
     "output_type": "stream",
     "text": [
      "UsageError: Cell magic `%%ipytest` not found.\n"
     ]
    }
   ],
   "source": [
    "%%ipytest\n",
    "#test function\n",
    "# with basic concepts of input and output\n",
    "#use expected output to compare with the output from the tested function\n",
    "#assert if it is wrong\n",
    "def test_plus():\n",
    "    inputa = 3\n",
    "    inputb = 1\n",
    "    output_plus = plus(inputa,inputb)\n",
    "    expected_output_plus = 4\n",
    "\n",
    "    assert output_plus == expected_output_plus\n",
    "\n",
    "\n",
    "def test_minus():\n",
    "    inputa = 3\n",
    "    inputb = 1\n",
    "    output_plus = minus(inputa,inputb)\n",
    "    expected_output_plus = 2\n",
    "\n",
    "    assert uitest.assertEqual(output_plus, excepted_output_plus)\n",
    "\n",
    "        "
   ]
  }
 ],
 "metadata": {
  "kernelspec": {
   "display_name": ".venv",
   "language": "python",
   "name": "python3"
  },
  "language_info": {
   "codemirror_mode": {
    "name": "ipython",
    "version": 3
   },
   "file_extension": ".py",
   "mimetype": "text/x-python",
   "name": "python",
   "nbconvert_exporter": "python",
   "pygments_lexer": "ipython3",
   "version": "3.11.5"
  }
 },
 "nbformat": 4,
 "nbformat_minor": 2
}
